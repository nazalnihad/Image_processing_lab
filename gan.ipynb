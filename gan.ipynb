{
  "nbformat": 4,
  "nbformat_minor": 0,
  "metadata": {
    "colab": {
      "provenance": [],
      "authorship_tag": "ABX9TyMKKgKQZ6SLPGN/Up14W8eQ"
    },
    "kernelspec": {
      "name": "python3",
      "display_name": "Python 3"
    },
    "language_info": {
      "name": "python"
    }
  },
  "cells": [
    {
      "cell_type": "code",
      "execution_count": 1,
      "metadata": {
        "id": "KLSuY_RA_MmH"
      },
      "outputs": [],
      "source": [
        "import torch\n",
        "import torch.nn as nn\n",
        "import torch.optim as optim\n",
        "from torchvision import datasets, transforms\n",
        "from torch.utils.data import DataLoader\n",
        "import matplotlib.pyplot as plt\n"
      ]
    },
    {
      "cell_type": "code",
      "source": [
        "device = torch.device(\"cuda\" if torch.cuda.is_available() else \"cpu\")\n",
        "\n",
        "# params\n",
        "lr = 3e-4\n",
        "z_dim = 64\n",
        "image_dim = 28 * 28\n",
        "batch_size = 32\n",
        "num_epochs = 10\n"
      ],
      "metadata": {
        "id": "1ApI7jRyASDh"
      },
      "execution_count": 2,
      "outputs": []
    },
    {
      "cell_type": "code",
      "source": [
        "# mnist stuff\n",
        "transform = transforms.Compose([\n",
        "    transforms.ToTensor(),\n",
        "    transforms.Normalize((0.5,), (0.5,))\n",
        "])\n",
        "\n",
        "dataset = datasets.MNIST(root=\"./data\", transform=transform, download=True)\n",
        "loader = DataLoader(dataset, batch_size=batch_size, shuffle=True)\n"
      ],
      "metadata": {
        "colab": {
          "base_uri": "https://localhost:8080/"
        },
        "id": "iJ5ZVxowAVUn",
        "outputId": "4a8ba7ab-b233-4334-8b63-d4b119fb4cb6"
      },
      "execution_count": 3,
      "outputs": [
        {
          "output_type": "stream",
          "name": "stderr",
          "text": [
            "100%|██████████| 9.91M/9.91M [00:00<00:00, 35.6MB/s]\n",
            "100%|██████████| 28.9k/28.9k [00:00<00:00, 1.06MB/s]\n",
            "100%|██████████| 1.65M/1.65M [00:00<00:00, 9.81MB/s]\n",
            "100%|██████████| 4.54k/4.54k [00:00<00:00, 6.41MB/s]\n"
          ]
        }
      ]
    },
    {
      "cell_type": "code",
      "source": [
        "# generatr\n",
        "\n",
        "class Generator(nn.Module):\n",
        "    def __init__(self, z_dim, img_dim):\n",
        "        super().__init__()\n",
        "        self.net = nn.Sequential(\n",
        "            nn.Linear(z_dim, 256),\n",
        "            nn.ReLU(),\n",
        "            nn.Linear(256, 512),\n",
        "            nn.ReLU(),\n",
        "            nn.Linear(512, img_dim),\n",
        "            nn.Tanh()\n",
        "        )\n",
        "\n",
        "    def forward(self, x):\n",
        "        return self.net(x)\n"
      ],
      "metadata": {
        "id": "zOeBG37uAbQ2"
      },
      "execution_count": 4,
      "outputs": []
    },
    {
      "cell_type": "code",
      "source": [
        "# discriminator\n",
        "\n",
        "class Discriminator(nn.Module):\n",
        "    def __init__(self, img_dim):\n",
        "        super().__init__()\n",
        "        self.net = nn.Sequential(\n",
        "            nn.Linear(img_dim, 512),\n",
        "            nn.LeakyReLU(0.2),\n",
        "            nn.Linear(512, 256),\n",
        "            nn.LeakyReLU(0.2),\n",
        "            nn.Linear(256, 1),\n",
        "            nn.Sigmoid()\n",
        "        )\n",
        "\n",
        "    def forward(self, x):\n",
        "        return self.net(x)\n"
      ],
      "metadata": {
        "id": "PnqzWVvOAfPN"
      },
      "execution_count": 5,
      "outputs": []
    },
    {
      "cell_type": "code",
      "source": [
        "gen = Generator(z_dim, image_dim).to(device)\n",
        "disc = Discriminator(image_dim).to(device)\n",
        "\n",
        "opt_gen = optim.Adam(gen.parameters(), lr=lr)\n",
        "opt_disc = optim.Adam(disc.parameters(), lr=lr)\n",
        "criterion = nn.BCELoss()\n",
        "\n",
        "fixed_noise = torch.randn(batch_size, z_dim).to(device)\n"
      ],
      "metadata": {
        "id": "m12ztsBBAiz8"
      },
      "execution_count": 6,
      "outputs": []
    },
    {
      "cell_type": "code",
      "source": [
        "# train\n",
        "\n",
        "for epoch in range(num_epochs):\n",
        "    for batch_idx, (real, _) in enumerate(loader):\n",
        "        real = real.view(-1, 28*28).to(device)\n",
        "        batch_size = real.size(0)\n",
        "\n",
        "        # discriminator\n",
        "        noise = torch.randn(batch_size, z_dim).to(device)\n",
        "        fake = gen(noise)\n",
        "\n",
        "        disc_real = disc(real).view(-1)\n",
        "        disc_fake = disc(fake.detach()).view(-1)\n",
        "        loss_disc = (criterion(disc_real, torch.ones_like(disc_real)) +\n",
        "                     criterion(disc_fake, torch.zeros_like(disc_fake))) / 2\n",
        "\n",
        "        disc.zero_grad()\n",
        "        loss_disc.backward()\n",
        "        opt_disc.step()\n",
        "\n",
        "        # generator\n",
        "        output = disc(fake).view(-1)\n",
        "        loss_gen = criterion(output, torch.ones_like(output))\n",
        "\n",
        "        gen.zero_grad()\n",
        "        loss_gen.backward()\n",
        "        opt_gen.step()\n",
        "\n",
        "    print(f\"Epoch [{epoch+1}/{num_epochs}]  Loss D: {loss_disc:.4f}, Loss G: {loss_gen:.4f}\")\n"
      ],
      "metadata": {
        "colab": {
          "base_uri": "https://localhost:8080/"
        },
        "id": "lnyuq1qYAk_Q",
        "outputId": "f24d93f4-c646-4007-91ea-7d4acd25d2a4"
      },
      "execution_count": 7,
      "outputs": [
        {
          "output_type": "stream",
          "name": "stdout",
          "text": [
            "Epoch [1/10]  Loss D: 0.5980, Loss G: 4.0729\n",
            "Epoch [2/10]  Loss D: 0.0574, Loss G: 4.0257\n",
            "Epoch [3/10]  Loss D: 0.2738, Loss G: 6.5379\n",
            "Epoch [4/10]  Loss D: 0.3350, Loss G: 5.6655\n",
            "Epoch [5/10]  Loss D: 0.0945, Loss G: 3.8500\n",
            "Epoch [6/10]  Loss D: 0.1772, Loss G: 3.3456\n",
            "Epoch [7/10]  Loss D: 0.2104, Loss G: 3.6460\n",
            "Epoch [8/10]  Loss D: 0.3021, Loss G: 2.3045\n",
            "Epoch [9/10]  Loss D: 0.2754, Loss G: 2.6914\n",
            "Epoch [10/10]  Loss D: 0.3323, Loss G: 3.0799\n"
          ]
        }
      ]
    },
    {
      "cell_type": "code",
      "source": [
        "# sample images\n",
        "gen.eval()\n",
        "with torch.no_grad():\n",
        "    fake_images = gen(fixed_noise).reshape(-1, 1, 28, 28).cpu()\n",
        "\n",
        "fig, axes = plt.subplots(1, 10, figsize=(15, 2))\n",
        "for i in range(10):\n",
        "    axes[i].imshow(fake_images[i].squeeze(), cmap=\"gray\")\n",
        "    axes[i].axis(\"off\")\n",
        "plt.show()\n"
      ],
      "metadata": {
        "colab": {
          "base_uri": "https://localhost:8080/",
          "height": 135
        },
        "id": "GAaU-2GtAq5e",
        "outputId": "257bfa5c-582b-4878-a6d4-135829570dc0"
      },
      "execution_count": 8,
      "outputs": [
        {
          "output_type": "display_data",
          "data": {
            "text/plain": [
              "<Figure size 1500x200 with 10 Axes>"
            ],
            "image/png": "[encoded data removed]"
          },
          "metadata": {}
        }
      ]
    },
    {
      "cell_type": "code",
      "source": [],
      "metadata": {
        "id": "hQtknk49CQBI"
      },
      "execution_count": null,
      "outputs": []
    }
  ]
}